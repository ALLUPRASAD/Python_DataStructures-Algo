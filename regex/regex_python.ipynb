{
 "cells": [
  {
   "cell_type": "code",
   "execution_count": 13,
   "id": "81a49f89-272f-4aef-bbb6-2e20ee0d1954",
   "metadata": {},
   "outputs": [],
   "source": [
    "# Here is again the list of meta characters:\n",
    "\n",
    "# .        Matches any single character\n",
    "# \\        Escapes one of the meta characters to treat it as a regular character\n",
    "# [...]    Matches a single character or a range that is contained within brackets. Order does not matter but without brackets order does matter\n",
    "# +        Matches the preeceding element one or more times\n",
    "# ?        Matches the preeceding element zero or one time\n",
    "# *        Matches the preeceding element zero or more times\n",
    "# {m,n}    Matches the preeceding element at least m and not more than n times\n",
    "# ^        Matches the beginning of a line or string\n",
    "# $        Matches the end of a line or string\n",
    "# [^...]   Matches a single character or a range that is not contained within the brackets\n",
    "# ?:...|...\"Or\" operator\n",
    "# ()       Matches an optional expression\n"
   ]
  },
  {
   "cell_type": "code",
   "execution_count": 39,
   "id": "ce177a14-1680-464a-b300-ba4524ba026b",
   "metadata": {},
   "outputs": [],
   "source": [
    "txt=\"Hi There I am alluprasad.iitm@gmail.com at cyble@infosec.com,cyble@infosec=com\""
   ]
  },
  {
   "cell_type": "code",
   "execution_count": 25,
   "id": "0b91ed3b-e83d-4305-b421-214fd8550b40",
   "metadata": {},
   "outputs": [
    {
     "data": {
      "text/plain": [
       "['m@g', 'e@i']"
      ]
     },
     "execution_count": 25,
     "metadata": {},
     "output_type": "execute_result"
    }
   ],
   "source": [
    "import re\n",
    "pattren=re.compile(\"[a-z]@[a-z]\")\n",
    "pattren.findall(txt)"
   ]
  },
  {
   "cell_type": "code",
   "execution_count": 31,
   "id": "046d2a12-a92f-4867-85c8-92f54efd2af7",
   "metadata": {},
   "outputs": [
    {
     "data": {
      "text/plain": [
       "['iitm@gmail', 'cyble@infosec']"
      ]
     },
     "execution_count": 31,
     "metadata": {},
     "output_type": "execute_result"
    }
   ],
   "source": [
    "import re\n",
    "pattren=re.compile(\"[a-z]+@+[a-z]+\")\n",
    "pattren.findall(txt)"
   ]
  },
  {
   "cell_type": "code",
   "execution_count": 32,
   "id": "5115ed32-b0c0-4c83-8453-9d3296ada7ec",
   "metadata": {},
   "outputs": [
    {
     "data": {
      "text/plain": [
       "['.iitm@gmail', 'cyble@infosec']"
      ]
     },
     "execution_count": 32,
     "metadata": {},
     "output_type": "execute_result"
    }
   ],
   "source": [
    "import re\n",
    "pattren=re.compile(\"[^ ][a-z]+@+[a-z]+\")\n",
    "pattren.findall(txt)"
   ]
  },
  {
   "cell_type": "code",
   "execution_count": 40,
   "id": "59326af0-baf8-41d0-90ad-ad3a71be150f",
   "metadata": {},
   "outputs": [
    {
     "data": {
      "text/plain": [
       "['.iitm@gmail.com', 'cyble@infosec.com,cyble@infosec=com']"
      ]
     },
     "execution_count": 40,
     "metadata": {},
     "output_type": "execute_result"
    }
   ],
   "source": [
    "import re\n",
    "pattren=re.compile(\"[^ ][a-z]+@[^ ]+[a-z]+\")\n",
    "pattren.findall(txt)"
   ]
  },
  {
   "cell_type": "code",
   "execution_count": 42,
   "id": "d4a18a09-c547-42c3-9963-a91f98820c17",
   "metadata": {},
   "outputs": [
    {
     "data": {
      "text/plain": [
       "['.iitm@gmail.com', 'cyble@infosec.com']"
      ]
     },
     "execution_count": 42,
     "metadata": {},
     "output_type": "execute_result"
    }
   ],
   "source": [
    "import re\n",
    "pattren=re.compile(\"[^ ][a-z]+@[^ ]+[.][a-z]+\")\n",
    "pattren.findall(txt)"
   ]
  },
  {
   "cell_type": "code",
   "execution_count": 43,
   "id": "85d72f7f-5c2f-4199-8255-c0549dd2d605",
   "metadata": {},
   "outputs": [
    {
     "data": {
      "text/plain": [
       "['.iitm@gmail.com at', 'cyble@infosec.com,cyble@infosec=com']"
      ]
     },
     "execution_count": 43,
     "metadata": {},
     "output_type": "execute_result"
    }
   ],
   "source": [
    "import re\n",
    "pattren=re.compile(\"[^ ][a-z]+@[^ ]+.[a-z]+\")\n",
    "pattren.findall(txt)"
   ]
  },
  {
   "cell_type": "code",
   "execution_count": 44,
   "id": "d1cde5aa-e412-4027-8ffe-b20036fc32e1",
   "metadata": {},
   "outputs": [
    {
     "data": {
      "text/plain": [
       "['.iitm@gmail.com', 'cyble@infosec.com']"
      ]
     },
     "execution_count": 44,
     "metadata": {},
     "output_type": "execute_result"
    }
   ],
   "source": [
    "import re\n",
    "pattren=re.compile(\"[^ ][a-z]+@[^ ]+\\.[a-z]+\")\n",
    "pattren.findall(txt)"
   ]
  },
  {
   "cell_type": "code",
   "execution_count": 47,
   "id": "fd3fab31-12c3-43bd-ae5b-7f6364085c98",
   "metadata": {},
   "outputs": [
    {
     "data": {
      "text/plain": [
       "['alluprasad.iitm@gmail.com']"
      ]
     },
     "execution_count": 47,
     "metadata": {},
     "output_type": "execute_result"
    }
   ],
   "source": [
    "import re\n",
    "pattren=re.compile(\"[^ ][prasadallu.iitm]+@[^ ]+\\.[a-z]+\")\n",
    "pattren.findall(txt)"
   ]
  },
  {
   "cell_type": "code",
   "execution_count": 48,
   "id": "5157ac95-7696-485d-9a0e-52c1e06604d2",
   "metadata": {},
   "outputs": [
    {
     "data": {
      "text/plain": [
       "[]"
      ]
     },
     "execution_count": 48,
     "metadata": {},
     "output_type": "execute_result"
    }
   ],
   "source": [
    "import re\n",
    "pattren=re.compile(\"[^ ]prasadallu.iitm+@[^ ]+\\.[a-z]+\")\n",
    "pattren.findall(txt)"
   ]
  },
  {
   "cell_type": "code",
   "execution_count": 51,
   "id": "a810e308-9dbb-43f8-9078-a077f91cee03",
   "metadata": {},
   "outputs": [
    {
     "data": {
      "text/plain": [
       "['alluprasad.iitm@gmail.com']"
      ]
     },
     "execution_count": 51,
     "metadata": {},
     "output_type": "execute_result"
    }
   ],
   "source": [
    "import re\n",
    "pattren=re.compile(\"alluprasad.iitm+@[^ ]+\\.[a-z]+\")\n",
    "pattren.findall(txt)"
   ]
  },
  {
   "cell_type": "code",
   "execution_count": 56,
   "id": "29b1b5c7-60a9-461c-98b9-3843a007204f",
   "metadata": {},
   "outputs": [
    {
     "data": {
      "text/plain": [
       "['tm@gmail.com', 'le@infosec.com']"
      ]
     },
     "execution_count": 56,
     "metadata": {},
     "output_type": "execute_result"
    }
   ],
   "source": [
    "import re\n",
    "pattren=re.compile(\"[^ ][a-z]?@[^ ]+\\.[a-z]+\")\n",
    "pattren.findall(txt)"
   ]
  },
  {
   "cell_type": "code",
   "execution_count": 58,
   "id": "89dcd3be-90b2-4712-9a2c-36f5fe239712",
   "metadata": {},
   "outputs": [
    {
     "data": {
      "text/plain": [
       "['alluprasad.iitm@gmail.com', 'cyble@infosec.com']"
      ]
     },
     "execution_count": 58,
     "metadata": {},
     "output_type": "execute_result"
    }
   ],
   "source": [
    "import re\n",
    "pattren=re.compile(\"[^ ]*@[^ ]+\\.[a-z]+\")\n",
    "pattren.findall(txt)"
   ]
  },
  {
   "cell_type": "code",
   "execution_count": 59,
   "id": "6bea44a9-3bd9-4a29-9a45-e86d2c51c3ae",
   "metadata": {},
   "outputs": [
    {
     "data": {
      "text/plain": [
       "['m@gmail.com', 'e@infosec.com']"
      ]
     },
     "execution_count": 59,
     "metadata": {},
     "output_type": "execute_result"
    }
   ],
   "source": [
    "import re\n",
    "pattren=re.compile(\"[^ ]?@[^ ]+\\.[a-z]+\")\n",
    "pattren.findall(txt)"
   ]
  },
  {
   "cell_type": "code",
   "execution_count": 78,
   "id": "c5db5a89-6eb9-406f-b99c-44336bc4e045",
   "metadata": {},
   "outputs": [
    {
     "data": {
      "text/plain": [
       "['alluprasad.iitm@gmail.com', 'cyble@infosec.com']"
      ]
     },
     "execution_count": 78,
     "metadata": {},
     "output_type": "execute_result"
    }
   ],
   "source": [
    "import re\n",
    "pattren=re.compile(\"[^ ]+@[^ ]+\\.[a-z]+\")\n",
    "pattren.findall(txt)"
   ]
  }
 ],
 "metadata": {
  "kernelspec": {
   "display_name": "Python 3 (ipykernel)",
   "language": "python",
   "name": "python3"
  },
  "language_info": {
   "codemirror_mode": {
    "name": "ipython",
    "version": 3
   },
   "file_extension": ".py",
   "mimetype": "text/x-python",
   "name": "python",
   "nbconvert_exporter": "python",
   "pygments_lexer": "ipython3",
   "version": "3.9.9"
  }
 },
 "nbformat": 4,
 "nbformat_minor": 5
}
